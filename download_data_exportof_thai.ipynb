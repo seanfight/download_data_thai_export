{
 "cells": [
  {
   "cell_type": "code",
   "execution_count": 1,
   "metadata": {},
   "outputs": [],
   "source": [
    "# 导入包文件\n",
    "from tqdm import tqdm\n",
    "import numpy as np\n",
    "import time\n",
    "import datetime# 获取数据\n",
    "from download_data_export_thailand import downloadexport\n",
    "import download_data_export_thailand\n"
   ]
  },
  {
   "cell_type": "code",
   "execution_count": 2,
   "metadata": {},
   "outputs": [],
   "source": [
    "# 下载数据\n",
    "url = \"https://dataapi.moc.go.th/export-harmonize-countries\"\n",
    "a = downloadexport(url=url,hs_code='081060',star_year=2020,star_month=1,end_year=2021,end_month=10)\n",
    "a.to_excel()\n",
    "data = a.down_data()"
   ]
  },
  {
   "cell_type": "code",
   "execution_count": null,
   "metadata": {},
   "outputs": [],
   "source": [
    "# index转换为datetime格式\n",
    "date = [datetime.datetime.strptime(i,'%Y%M') for i in data.index.values]\n",
    "date = [i.strftime('%YY%mM') for i in date]\n",
    "data['date'] = date\n",
    "data.set_index(keys = 'date',inplace = True)\n",
    "data.head()"
   ]
  },
  {
   "cell_type": "code",
   "execution_count": null,
   "metadata": {},
   "outputs": [],
   "source": [
    "# 数据分类\n",
    "data_all = data.groupby(data.index).sum()\n",
    "data_china = data[data['country_name_en'] == 'CHINA']\n",
    "data_hk = data[data['country_name_en'] == 'HONG KONG']\n",
    "data_else_country = data[~(data['country_name_en'].str.contains('CHINA') | data['country_name_en'].str.contains('HONG KONG'))]\n",
    "# 将国外数据分类\n",
    "data_else_country = data_else_country.groupby(data_else_country.index).sum()\n",
    "a = list(map(lambda x:round(x/17280,0),data_all.quantity.values.tolist()))\n",
    "a"
   ]
  },
  {
   "cell_type": "code",
   "execution_count": 23,
   "metadata": {},
   "outputs": [],
   "source": [
    "# 绘图\n",
    "import pyecharts.options as opts\n",
    "from pyecharts.charts import Line\n",
    "\n",
    "c = (\n",
    "    Line()\n",
    "    # \n",
    "    \n",
    "    .add_xaxis(data_china.index.values.tolist())\n",
    "    .add_yaxis(\n",
    "        \"ALL\",\n",
    "        list(map(lambda x:round(x/17280,0),data_all.quantity.values.tolist())),\n",
    "        # markline_opts=opts.MarkLineOpts(data=[opts.MarkLineItem(type_=\"average\")]),\n",
    "\n",
    "    )\n",
    "    .add_yaxis(\n",
    "        \"CHINA\",\n",
    "        list(map(lambda x:round(x/17280,0),data_china[data_china.country_name_en == 'CHINA'].quantity.values.tolist())),\n",
    "        # markline_opts=opts.MarkLineOpts(data=[opts.MarkLineItem(type_=\"average\")]),\n",
    "\n",
    "    )\n",
    "    .add_yaxis(\n",
    "        \"HONG KONG\",\n",
    "        list(map(lambda x:round(x/17280,0),data_hk[data_hk.country_name_en == 'HONG KONG'].quantity.values.tolist())),\n",
    "        # markline_opts=opts.MarkLineOpts(data=[opts.MarkLineItem(type_=\"average\")]),\n",
    "    )\n",
    "    .add_yaxis(\n",
    "        \"ELSE COUNTRY\",\n",
    "        list(map(lambda x:round(x/17280,0),data_else_country.quantity.values.tolist())),\n",
    "        # markline_opts=opts.MarkLineOpts(data=[opts.MarkLineItem(type_=\"average\")]),\n",
    "    )\n",
    "    .set_global_opts(title_opts=opts.TitleOpts(title=\"2020-2021年泰国榴莲出口数据（柜/月）\"))\n",
    "    .render(r\"line_markline.html\")\n",
    ")\n"
   ]
  }
 ],
 "metadata": {
  "interpreter": {
   "hash": "c93320d11eedacd0dc8d05a22893bbf103ba438c001499e8e615188e4772c473"
  },
  "kernelspec": {
   "display_name": "Python 3.8.8 64-bit ('base': conda)",
   "language": "python",
   "name": "python3"
  },
  "language_info": {
   "codemirror_mode": {
    "name": "ipython",
    "version": 3
   },
   "file_extension": ".py",
   "mimetype": "text/x-python",
   "name": "python",
   "nbconvert_exporter": "python",
   "pygments_lexer": "ipython3",
   "version": "3.7.12"
  },
  "orig_nbformat": 4
 },
 "nbformat": 4,
 "nbformat_minor": 2
}
